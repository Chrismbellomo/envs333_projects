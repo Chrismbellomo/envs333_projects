{
 "cells": [
  {
   "cell_type": "code",
   "execution_count": 1,
   "id": "c1b16029",
   "metadata": {},
   "outputs": [],
   "source": [
    "def dd(latdegree, latminute, latsecond, latdirection, londegree, lonminute, lonsecond, londirection):\n",
    "    # Convert direction values to numerical values or \"multipliers\"\n",
    "    lat_direction_multiplier = 1 if latdirection == 'N' else -1\n",
    "    lon_direction_multiplier = 1 if londirection == 'E' else -1\n",
    "    \n",
    "    latdd = lat_direction_multiplier * (latdegree + (latminute + latsecond/60.)/60.)\n",
    "    londd = lon_direction_multiplier * (londegree + (lonminute + lonsecond/60.)/60.)\n",
    "    \n",
    "    return latdd, londd"
   ]
  },
  {
   "cell_type": "code",
   "execution_count": 2,
   "id": "9069262b",
   "metadata": {},
   "outputs": [],
   "source": [
    "coordinate_1 = dd(42, 13, 6.49, 'N', 71, 7, 4.43, 'W')\n",
    "coordinate_2 = dd(42, 13, 1.16, 'N', 71, 7, 10.17, 'W')\n",
    "coordinate_3 = dd(42, 12, 57.57, 'N', 71, 7, 11.07, 'W')\n",
    "coordinate_4 = dd(42, 12, 52.92, 'N', 71, 7, 11.25, 'W')\n",
    "coordinate_5 = dd(42, 13, 4.31, 'N', 71, 6, 58.56, 'W')\n",
    "coordinate_6 = dd(42, 12, 55.72, 'N', 71, 6, 53.65, 'W')\n",
    "coordinate_7 = dd(42, 12, 47.12, 'N', 71, 6, 51.51, 'W')\n",
    "coordinate_8 = dd(42, 12, 43.44, 'N', 71, 6, 58.18, 'W')"
   ]
  },
  {
   "cell_type": "code",
   "execution_count": 3,
   "id": "c4b93efd",
   "metadata": {},
   "outputs": [
    {
     "name": "stdout",
     "output_type": "stream",
     "text": [
      "(42.218469444444445, -71.11789722222223)\n",
      "(42.21698888888889, -71.11949166666666)\n",
      "(42.21599166666667, -71.11974166666667)\n",
      "(42.2147, -71.11979166666667)\n",
      "(42.217863888888886, -71.11626666666666)\n",
      "(42.21547777777778, -71.11490277777777)\n",
      "(42.21308888888889, -71.11430833333333)\n",
      "(42.212066666666665, -71.11616111111111)\n"
     ]
    }
   ],
   "source": [
    "print(coordinate_1, coordinate_2, coordinate_3, coordinate_4, coordinate_5, coordinate_6, coordinate_7, coordinate_8, sep='\\n')"
   ]
  }
 ],
 "metadata": {
  "kernelspec": {
   "display_name": "Python 3 (ipykernel)",
   "language": "python",
   "name": "python3"
  },
  "language_info": {
   "codemirror_mode": {
    "name": "ipython",
    "version": 3
   },
   "file_extension": ".py",
   "mimetype": "text/x-python",
   "name": "python",
   "nbconvert_exporter": "python",
   "pygments_lexer": "ipython3",
   "version": "3.10.9"
  }
 },
 "nbformat": 4,
 "nbformat_minor": 5
}
