{
 "cells": [
  {
   "cell_type": "code",
   "execution_count": 1,
   "id": "36c855a2",
   "metadata": {},
   "outputs": [],
   "source": [
    "import converter as cvt"
   ]
  },
  {
   "cell_type": "code",
   "execution_count": 2,
   "id": "242d4f25",
   "metadata": {},
   "outputs": [
    {
     "data": {
      "text/plain": [
       "(42.218469444444445, -71.11789722222223)"
      ]
     },
     "execution_count": 2,
     "metadata": {},
     "output_type": "execute_result"
    },
    {
     "data": {
      "text/plain": [
       "(42.218469444444445, -71.11789722222223)"
      ]
     },
     "execution_count": 2,
     "metadata": {},
     "output_type": "execute_result"
    }
   ],
   "source": [
    "cvt.dd(42, 13, 6.49, 'N', 71, 7, 4.43, 'W')"
   ]
  },
  {
   "cell_type": "code",
   "execution_count": 3,
   "id": "e77473e2",
   "metadata": {},
   "outputs": [
    {
     "data": {
      "text/plain": [
       "'AUCGGCUA'"
      ]
     },
     "execution_count": 3,
     "metadata": {},
     "output_type": "execute_result"
    },
    {
     "data": {
      "text/plain": [
       "'AUCGGCUA'"
      ]
     },
     "execution_count": 3,
     "metadata": {},
     "output_type": "execute_result"
    }
   ],
   "source": [
    "cvt.dna_to_rna('ATCGGCTA')"
   ]
  },
  {
   "cell_type": "code",
   "execution_count": 4,
   "id": "f21400cd",
   "metadata": {},
   "outputs": [
    {
     "data": {
      "text/plain": [
       "'ATCGGCTA'"
      ]
     },
     "execution_count": 4,
     "metadata": {},
     "output_type": "execute_result"
    },
    {
     "data": {
      "text/plain": [
       "'ATCGGCTA'"
      ]
     },
     "execution_count": 4,
     "metadata": {},
     "output_type": "execute_result"
    }
   ],
   "source": [
    "cvt.rna_to_dna('AUCGGCUA')"
   ]
  },
  {
   "cell_type": "code",
   "execution_count": 5,
   "id": "7a57a853",
   "metadata": {},
   "outputs": [
    {
     "data": {
      "text/plain": [
       "5.0"
      ]
     },
     "execution_count": 5,
     "metadata": {},
     "output_type": "execute_result"
    },
    {
     "data": {
      "text/plain": [
       "5.0"
      ]
     },
     "execution_count": 5,
     "metadata": {},
     "output_type": "execute_result"
    }
   ],
   "source": [
    "cvt.ul_to_ml(5000)"
   ]
  },
  {
   "cell_type": "code",
   "execution_count": 6,
   "id": "716b7a3a",
   "metadata": {},
   "outputs": [
    {
     "data": {
      "text/plain": [
       "5000"
      ]
     },
     "execution_count": 6,
     "metadata": {},
     "output_type": "execute_result"
    },
    {
     "data": {
      "text/plain": [
       "5000"
      ]
     },
     "execution_count": 6,
     "metadata": {},
     "output_type": "execute_result"
    }
   ],
   "source": [
    "cvt.ml_to_ul(5)"
   ]
  },
  {
   "cell_type": "code",
   "execution_count": 7,
   "id": "c5fa7280",
   "metadata": {},
   "outputs": [
    {
     "data": {
      "text/plain": [
       "15840"
      ]
     },
     "execution_count": 7,
     "metadata": {},
     "output_type": "execute_result"
    },
    {
     "data": {
      "text/plain": [
       "15840"
      ]
     },
     "execution_count": 7,
     "metadata": {},
     "output_type": "execute_result"
    }
   ],
   "source": [
    "cvt.miles_to_feet(3)"
   ]
  },
  {
   "cell_type": "code",
   "execution_count": 8,
   "id": "1cdc83ec",
   "metadata": {},
   "outputs": [
    {
     "data": {
      "text/plain": [
       "3.0"
      ]
     },
     "execution_count": 8,
     "metadata": {},
     "output_type": "execute_result"
    },
    {
     "data": {
      "text/plain": [
       "3.0"
      ]
     },
     "execution_count": 8,
     "metadata": {},
     "output_type": "execute_result"
    }
   ],
   "source": [
    "cvt.feet_to_miles(15840)"
   ]
  }
 ],
 "metadata": {
  "kernelspec": {
   "display_name": "Python 3 (ipykernel)",
   "language": "python",
   "name": "python3"
  },
  "language_info": {
   "codemirror_mode": {
    "name": "ipython",
    "version": 3
   },
   "file_extension": ".py",
   "mimetype": "text/x-python",
   "name": "python",
   "nbconvert_exporter": "python",
   "pygments_lexer": "ipython3",
   "version": "3.8.16"
  }
 },
 "nbformat": 4,
 "nbformat_minor": 5
}
